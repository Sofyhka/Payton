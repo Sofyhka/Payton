{
  "nbformat": 4,
  "nbformat_minor": 0,
  "metadata": {
    "colab": {
      "provenance": [],
      "toc_visible": true,
      "authorship_tag": "ABX9TyNyW4742DHn2TCwVs4DLcCY",
      "include_colab_link": true
    },
    "kernelspec": {
      "name": "python3",
      "display_name": "Python 3"
    },
    "language_info": {
      "name": "python"
    }
  },
  "cells": [
    {
      "cell_type": "markdown",
      "metadata": {
        "id": "view-in-github",
        "colab_type": "text"
      },
      "source": [
        "<a href=\"https://colab.research.google.com/github/Sofyhka/Payton/blob/main/untitled0.ipynb\" target=\"_parent\"><img src=\"https://colab.research.google.com/assets/colab-badge.svg\" alt=\"Open In Colab\"/></a>"
      ]
    },
    {
      "cell_type": "code",
      "execution_count": null,
      "metadata": {
        "id": "4MLZmIEnNcdH"
      },
      "outputs": [],
      "source": [
        "import pandas as pd\n"
      ]
    },
    {
      "cell_type": "code",
      "source": [
        "df = pd.read_csv('sample_data/california_housing_train.csv')"
      ],
      "metadata": {
        "id": "Hc_VUYT3Pc0x"
      },
      "execution_count": null,
      "outputs": []
    },
    {
      "cell_type": "code",
      "source": [
        "df [\n",
        "    (df['population'] >0) &\n",
        "    (df['population'] < 500)\n",
        "].median_house_value.mean()"
      ],
      "metadata": {
        "colab": {
          "base_uri": "https://localhost:8080/"
        },
        "id": "D4Q9cwplSauT",
        "outputId": "944937a5-f69c-4ba4-9114-208272a459b3"
      },
      "execution_count": null,
      "outputs": [
        {
          "output_type": "execute_result",
          "data": {
            "text/plain": [
              "206683.83635227982"
            ]
          },
          "metadata": {},
          "execution_count": 7
        }
      ]
    },
    {
      "cell_type": "markdown",
      "source": [
        "Работать с файлом california_housing_train.csv ,который находится в папке sampie_data .Определить среднюю стоимость дома,где кол-во людей 0 до 500 (population)"
      ],
      "metadata": {
        "id": "lY1uQq4DThrE"
      }
    },
    {
      "cell_type": "code",
      "source": [
        "min_population = df.population.min()\n",
        "df[\n",
        "    df['population'] == min_population\n",
        "].households.max()"
      ],
      "metadata": {
        "colab": {
          "base_uri": "https://localhost:8080/"
        },
        "id": "z2w7QQOhUxhk",
        "outputId": "65c854eb-b467-48f8-8ec3-d3b8cb991722"
      },
      "execution_count": null,
      "outputs": [
        {
          "output_type": "execute_result",
          "data": {
            "text/plain": [
              "4.0"
            ]
          },
          "metadata": {},
          "execution_count": 9
        }
      ]
    }
  ]
}