{
  "nbformat": 4,
  "nbformat_minor": 0,
  "metadata": {
    "colab": {
      "provenance": [],
      "toc_visible": true,
      "authorship_tag": "ABX9TyPpK1IxG95k4Bq6CRwYQQ24",
      "include_colab_link": true
    },
    "kernelspec": {
      "name": "python3",
      "display_name": "Python 3"
    },
    "language_info": {
      "name": "python"
    }
  },
  "cells": [
    {
      "cell_type": "markdown",
      "metadata": {
        "id": "view-in-github",
        "colab_type": "text"
      },
      "source": [
        "<a href=\"https://colab.research.google.com/github/Sofyhka/Payton/blob/main/untitled1.ipynb\" target=\"_parent\"><img src=\"https://colab.research.google.com/assets/colab-badge.svg\" alt=\"Open In Colab\"/></a>"
      ]
    },
    {
      "cell_type": "code",
      "execution_count": null,
      "metadata": {
        "id": "4anVVvpFiLh2"
      },
      "outputs": [],
      "source": [
        "import random"
      ]
    },
    {
      "cell_type": "code",
      "source": [
        "import pandas as pd"
      ],
      "metadata": {
        "id": "p1_1s65diXy5"
      },
      "execution_count": null,
      "outputs": []
    },
    {
      "cell_type": "code",
      "source": [
        "lst = ['robot'] * 10\n",
        "lst += ['human'] * 10\n",
        "random.shuffle(lst)\n",
        "\n",
        "def set_onehot(row):\n",
        "  if row['whoAmI'] == 'robot':\n",
        "    row['robot'] = True\n",
        "  elif row['whoAmi'] == 'human':\n",
        "    row['human'] = True\n",
        "  return row\n",
        "  print(data.head())  "
      ],
      "metadata": {
        "id": "MQ4c1MdHimt0"
      },
      "execution_count": null,
      "outputs": []
    },
    {
      "cell_type": "markdown",
      "source": [
        "этот код создаёт новые столбцы 'robot' и 'human',присваевает им значение False, и применяет к ней функцию set_one_hot() к каждой строке в столбце whoAmI.Функция set_one_hot проверяет значение в каждой строке, и устанавливает значение True в соответствующем столбце,если значение в столбце whorAmI Совпадает с несколькими значениями.В конце кода  столбец 'whoAmI' удаляется так как он не нужен больше."
      ],
      "metadata": {
        "id": "FFmXct4bllO5"
      }
    }
  ]
}